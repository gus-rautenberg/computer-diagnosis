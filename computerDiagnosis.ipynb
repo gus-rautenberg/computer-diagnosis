{
 "cells": [
  {
   "cell_type": "markdown",
   "metadata": {},
   "source": [
    "# PyKE Coding Simple Example\n",
    "- Course: BMIN 520 (AI 1: Fundamentals of Artificial Intelligence)\n",
    "- Institution: University of Pennsylvania\n",
    "- Course Director: Ryan Urbanowicz, PhD\n",
    "- Due date: NA"
   ]
  },
  {
   "cell_type": "markdown",
   "metadata": {},
   "source": [
    "---\n",
    "## Subtask 1 - Learn how to code your own basic backward chaining expert system:\n",
    "\n",
    "A very simple set of code has been provided as template for how to create your own backward chaining expert system.  Specifically this system decides what you should bring when walking out of the house (i.e. an umbrella, a raincoat, or nothing). This in the zipped folder 'simple_bc_all'. Follow the instructions below:\n",
    "- Unzip this folder and copy it into your working directory.\n",
    "- Examine 'facts.kfb' in a text or python editor.\n",
    "    - To simplify things, this file hard codes all the facts (about the weather) that are needed to make the decision of what to bring outside.\n",
    "    - Note that the text, 'True' or 'False' is intended to be used in these facts.  \n",
    "- Examine 'bc_simple_rules.krb' in a text or python editor.\n",
    "    - Each of the four code chunks represent backward chaining rules\n",
    "    - Syntax of a PyKE rule:\n",
    "        - The first line gives a unique rule name\n",
    "        - The next line is the 'THEN' part of the rule, designated by the word 'use'.\n",
    "        - The next third line is the 'IF' part of the rule, designated by the word 'when'.\n",
    "            - Each subsequent line is an 'IF' condition that must be satified for the 'THEN' part of the rule to be satisfied.\n",
    "            - Note that whenever a fact from the fact base is to be sought, the line begins with the name of the fact base and a '.', (i.e. facts.)\n",
    "            \n",
    "- Examine 'driver_simple.py' in a text or python editor.\n",
    "    - This code initializes the PyKE engine, and includes a function, 'bc_test', to run the expert system. It is very similar to the functions introduced in the PyKE family relationship examples.\n",
    "    - Comments have been added to this code to point out the lines that you will need to edit later to make your own simple expert system.\n",
    "- Edit the path (in the sys.path.append()) to the 'simple_bc_all' folder, to match the folder hierarchy on your computer.\n",
    "- Run the cell below to confirm that it is working. \n",
    "    - Since the fact base indicates that it is both raining and windy, the system should indicate that a raincoat should be brought."
   ]
  },
  {
   "cell_type": "code",
   "execution_count": 1,
   "metadata": {},
   "outputs": [
    {
     "name": "stderr",
     "output_type": "stream",
     "text": [
      "writing [compiled_krb]/facts.fbc\n"
     ]
    },
    {
     "ename": "SyntaxError",
     "evalue": "illegal character '\"' (motherboardFailure.krb, line 9)",
     "output_type": "error",
     "traceback": [
      "Traceback \u001b[1;36m(most recent call last)\u001b[0m:\n",
      "\u001b[0m  File \u001b[0;32m~\\AppData\\Roaming\\Python\\Python311\\site-packages\\IPython\\core\\interactiveshell.py:3577\u001b[0m in \u001b[0;35mrun_code\u001b[0m\n    exec(code_obj, self.user_global_ns, self.user_ns)\u001b[0m\n",
      "\u001b[0m  Cell \u001b[0;32mIn[1], line 6\u001b[0m\n    import driver\u001b[0m\n",
      "\u001b[0m  File \u001b[0;32mh:\\Unioeste\\2023\\IA\\SE\\computer-diagnosis\\driver.py:10\u001b[0m\n    engine = knowledge_engine.engine(__file__)\u001b[0m\n",
      "\u001b[0m  File \u001b[0;32mc:\\Users\\gprau\\AppData\\Local\\Programs\\Python\\Python311\\Lib\\site-packages\\pyke-1.1.1-py3.11.egg\\pyke\\knowledge_engine.py:108\u001b[0m in \u001b[0;35m__init__\u001b[0m\n    target_package.compile(self)\u001b[0m\n",
      "\u001b[0m  File \u001b[0;32mc:\\Users\\gprau\\AppData\\Local\\Programs\\Python\\Python311\\Lib\\site-packages\\pyke-1.1.1-py3.11.egg\\pyke\\target_pkg.py:285\u001b[0m in \u001b[0;35mcompile\u001b[0m\n    self.do_by_ext('compile',\u001b[0m\n",
      "\u001b[0m  File \u001b[0;32mc:\\Users\\gprau\\AppData\\Local\\Programs\\Python\\Python311\\Lib\\site-packages\\pyke-1.1.1-py3.11.egg\\pyke\\target_pkg.py:265\u001b[0m in \u001b[0;35mdo_by_ext\u001b[0m\n    return getattr(self, \"%s_%s\" % (prefix, ext))(filename, *args)\u001b[0m\n",
      "\u001b[0m  File \u001b[0;32mc:\\Users\\gprau\\AppData\\Local\\Programs\\Python\\Python311\\Lib\\site-packages\\pyke-1.1.1-py3.11.egg\\pyke\\target_pkg.py:298\u001b[0m in \u001b[0;35mcompile_krb\u001b[0m\n    return krb_compiler.compile_krb(rb_name, self.package_name,\u001b[0m\n",
      "\u001b[0m  File \u001b[0;32mc:\\Users\\gprau\\AppData\\Local\\Programs\\Python\\Python311\\Lib\\site-packages\\pyke-1.1.1-py3.11.egg\\pyke\\krb_compiler\\__init__.py:114\u001b[0m in \u001b[0;35mcompile_krb\u001b[0m\n    ast = krbparser.parse(krbparser, filename)\u001b[0m\n",
      "\u001b[0m  File \u001b[0;32mc:\\Users\\gprau\\AppData\\Local\\Programs\\Python\\Python311\\Lib\\site-packages\\pyke-1.1.1-py3.11.egg\\pyke\\krb_compiler\\krbparser.py:601\u001b[0m in \u001b[0;35mparse\u001b[0m\n    return parser.parse(f.read() + '\\n', lexer=scanner.lexer, tracking=True,\u001b[0m\n",
      "\u001b[0m  File \u001b[0;32mc:\\Users\\gprau\\AppData\\Local\\Programs\\Python\\Python311\\Lib\\site-packages\\pyke-1.1.1-py3.11.egg\\pyke\\krb_compiler\\ply\\yacc.py:263\u001b[0m in \u001b[0;35mparse\u001b[0m\n    return self.parseopt(input,lexer,debug,tracking,tokenfunc)\u001b[0m\n",
      "\u001b[0m  File \u001b[0;32mc:\\Users\\gprau\\AppData\\Local\\Programs\\Python\\Python311\\Lib\\site-packages\\pyke-1.1.1-py3.11.egg\\pyke\\krb_compiler\\ply\\yacc.py:649\u001b[0m in \u001b[0;35mparseopt\u001b[0m\n    lookahead = get_token()     # Get the next token\u001b[0m\n",
      "\u001b[0m  File \u001b[0;32mc:\\Users\\gprau\\AppData\\Local\\Programs\\Python\\Python311\\Lib\\site-packages\\pyke-1.1.1-py3.11.egg\\pyke\\krb_compiler\\ply\\lex.py:384\u001b[0m in \u001b[0;35mtoken\u001b[0m\n    newtok = self.lexerrorf(tok)\u001b[0m\n",
      "\u001b[1;36m  File \u001b[1;32mc:\\Users\\gprau\\AppData\\Local\\Programs\\Python\\Python311\\Lib\\site-packages\\pyke-1.1.1-py3.11.egg\\pyke\\krb_compiler\\scanner.py:439\u001b[1;36m in \u001b[1;35mt_ANY_error\u001b[1;36m\n\u001b[1;33m    raise SyntaxError(\"illegal character %s\" % repr(t.value[0]),\u001b[1;36m\n",
      "\u001b[1;36m  File \u001b[1;32mh:\\Unioeste\\2023\\IA\\SE\\computer-diagnosis\\motherboardFailure.krb:9\u001b[1;36m\u001b[0m\n\u001b[1;33m    use what_to_do(\"Restarte o programa e selecione a opcao de fonte de alimentacao)\u001b[0m\n\u001b[1;37m                   ^\u001b[0m\n\u001b[1;31mSyntaxError\u001b[0m\u001b[1;31m:\u001b[0m illegal character '\"'\n"
     ]
    }
   ],
   "source": [
    "#Run this cell\n",
    "import sys\n",
    "# The following command points your notebook to the location of a folder outside your working directory that you want to import.\n",
    "sys.path.append(r'H:\\Unioeste\\2023\\IA\\SE\\computer-diagnosis')\n",
    "#sys.path.append('yourpath')\n",
    "import driver\n",
    "\n",
    "driver.hardware_diagnosis_questions()\n"
   ]
  }
 ],
 "metadata": {
  "kernelspec": {
   "display_name": "Python 3",
   "language": "python",
   "name": "python3"
  },
  "language_info": {
   "codemirror_mode": {
    "name": "ipython",
    "version": 3
   },
   "file_extension": ".py",
   "mimetype": "text/x-python",
   "name": "python",
   "nbconvert_exporter": "python",
   "pygments_lexer": "ipython3",
   "version": "3.11.8"
  }
 },
 "nbformat": 4,
 "nbformat_minor": 2
}
