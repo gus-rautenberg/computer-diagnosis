{
 "cells": [
  {
   "cell_type": "markdown",
   "metadata": {},
   "source": [
    "# PyKE Coding Simple Example\n",
    "- Course: BMIN 520 (AI 1: Fundamentals of Artificial Intelligence)\n",
    "- Institution: University of Pennsylvania\n",
    "- Course Director: Ryan Urbanowicz, PhD\n",
    "- Due date: NA"
   ]
  },
  {
   "cell_type": "markdown",
   "metadata": {},
   "source": [
    "---\n",
    "## Subtask 1 - Learn how to code your own basic backward chaining expert system:\n",
    "\n",
    "A very simple set of code has been provided as template for how to create your own backward chaining expert system.  Specifically this system decides what you should bring when walking out of the house (i.e. an umbrella, a raincoat, or nothing). This in the zipped folder 'simple_bc_all'. Follow the instructions below:\n",
    "- Unzip this folder and copy it into your working directory.\n",
    "- Examine 'facts.kfb' in a text or python editor.\n",
    "    - To simplify things, this file hard codes all the facts (about the weather) that are needed to make the decision of what to bring outside.\n",
    "    - Note that the text, 'True' or 'False' is intended to be used in these facts.  \n",
    "- Examine 'bc_simple_rules.krb' in a text or python editor.\n",
    "    - Each of the four code chunks represent backward chaining rules\n",
    "    - Syntax of a PyKE rule:\n",
    "        - The first line gives a unique rule name\n",
    "        - The next line is the 'THEN' part of the rule, designated by the word 'use'.\n",
    "        - The next third line is the 'IF' part of the rule, designated by the word 'when'.\n",
    "            - Each subsequent line is an 'IF' condition that must be satified for the 'THEN' part of the rule to be satisfied.\n",
    "            - Note that whenever a fact from the fact base is to be sought, the line begins with the name of the fact base and a '.', (i.e. facts.)\n",
    "            \n",
    "- Examine 'driver_simple.py' in a text or python editor.\n",
    "    - This code initializes the PyKE engine, and includes a function, 'bc_test', to run the expert system. It is very similar to the functions introduced in the PyKE family relationship examples.\n",
    "    - Comments have been added to this code to point out the lines that you will need to edit later to make your own simple expert system.\n",
    "- Edit the path (in the sys.path.append()) to the 'simple_bc_all' folder, to match the folder hierarchy on your computer.\n",
    "- Run the cell below to confirm that it is working. \n",
    "    - Since the fact base indicates that it is both raining and windy, the system should indicate that a raincoat should be brought."
   ]
  },
  {
   "cell_type": "code",
   "execution_count": 1,
   "metadata": {},
   "outputs": [
    {
     "name": "stderr",
     "output_type": "stream",
     "text": [
      "writing [compiled_krb]/facts.fbc\n",
      "writing [compiled_krb]/motherboardFailure_bc.py\n",
      "c:\\Users\\gprau\\AppData\\Local\\Programs\\Python\\Python311\\Lib\\site-packages\\pyke-1.1.1-py3.11.egg\\pyke\\krb_compiler\\kqb_parser.py:35: FutureWarning: Possible nested set at position 122\n",
      "  tokenizer = re.compile(r''' [ \\t\\f\\r\\v]* (?: \\#.* )? (?:\n",
      "writing [compiled_krb]/questions.qbc\n",
      "writing [compiled_krb]/rules_bc.py\n",
      "writing [compiled_krb]/compiled_pyke_files.py\n"
     ]
    },
    {
     "ename": "AssertionError",
     "evalue": "motherboardFailure rule_base: duplicate rule name: what_to_do_proceed_to_drive_failure",
     "output_type": "error",
     "traceback": [
      "\u001b[1;31m---------------------------------------------------------------------------\u001b[0m",
      "\u001b[1;31mAssertionError\u001b[0m                            Traceback (most recent call last)",
      "Cell \u001b[1;32mIn[1], line 6\u001b[0m\n\u001b[0;32m      4\u001b[0m sys\u001b[38;5;241m.\u001b[39mpath\u001b[38;5;241m.\u001b[39mappend(\u001b[38;5;124mr\u001b[39m\u001b[38;5;124m'\u001b[39m\u001b[38;5;124mH:\u001b[39m\u001b[38;5;124m\\\u001b[39m\u001b[38;5;124mUnioeste\u001b[39m\u001b[38;5;124m\\\u001b[39m\u001b[38;5;124m2023\u001b[39m\u001b[38;5;124m\\\u001b[39m\u001b[38;5;124mIA\u001b[39m\u001b[38;5;124m\\\u001b[39m\u001b[38;5;124mSE\u001b[39m\u001b[38;5;124m\\\u001b[39m\u001b[38;5;124mcomputer-diagnosis\u001b[39m\u001b[38;5;124m'\u001b[39m)\n\u001b[0;32m      5\u001b[0m \u001b[38;5;66;03m#sys.path.append('yourpath')\u001b[39;00m\n\u001b[1;32m----> 6\u001b[0m \u001b[38;5;28;01mimport\u001b[39;00m \u001b[38;5;21;01mdriver\u001b[39;00m\n\u001b[0;32m      8\u001b[0m driver\u001b[38;5;241m.\u001b[39mhardware_diagnosis_questions()\n",
      "File \u001b[1;32mh:\\Unioeste\\2023\\IA\\SE\\computer-diagnosis\\driver.py:10\u001b[0m\n\u001b[0;32m      7\u001b[0m \u001b[38;5;28;01mfrom\u001b[39;00m \u001b[38;5;21;01mpyke\u001b[39;00m \u001b[38;5;28;01mimport\u001b[39;00m knowledge_engine\n\u001b[0;32m      8\u001b[0m \u001b[38;5;28;01mfrom\u001b[39;00m \u001b[38;5;21;01mpyke\u001b[39;00m \u001b[38;5;28;01mimport\u001b[39;00m krb_traceback\n\u001b[1;32m---> 10\u001b[0m engine \u001b[38;5;241m=\u001b[39m \u001b[43mknowledge_engine\u001b[49m\u001b[38;5;241;43m.\u001b[39;49m\u001b[43mengine\u001b[49m\u001b[43m(\u001b[49m\u001b[38;5;18;43m__file__\u001b[39;49m\u001b[43m)\u001b[49m\n\u001b[0;32m     13\u001b[0m \u001b[38;5;28;01mdef\u001b[39;00m \u001b[38;5;21mhardware_diagnosis_questions\u001b[39m():\n\u001b[0;32m     14\u001b[0m \n\u001b[0;32m     15\u001b[0m     \u001b[38;5;66;03m# engine.reset()      # Allows us to run tests multiple times.\u001b[39;00m\n\u001b[0;32m     17\u001b[0m     engine\u001b[38;5;241m.\u001b[39mactivate(\u001b[38;5;124m'\u001b[39m\u001b[38;5;124mrules\u001b[39m\u001b[38;5;124m'\u001b[39m) \u001b[38;5;66;03m#STUDENTS: you will need to edit the name of your rule file here\u001b[39;00m\n",
      "File \u001b[1;32mc:\\Users\\gprau\\AppData\\Local\\Programs\\Python\\Python311\\Lib\\site-packages\\pyke-1.1.1-py3.11.egg\\pyke\\knowledge_engine.py:110\u001b[0m, in \u001b[0;36mengine.__init__\u001b[1;34m(self, *search_paths, **kws)\u001b[0m\n\u001b[0;32m    108\u001b[0m         target_package\u001b[38;5;241m.\u001b[39mcompile(\u001b[38;5;28mself\u001b[39m)\n\u001b[0;32m    109\u001b[0m         target_package\u001b[38;5;241m.\u001b[39mwrite()\n\u001b[1;32m--> 110\u001b[0m         \u001b[43mtarget_package\u001b[49m\u001b[38;5;241;43m.\u001b[39;49m\u001b[43mload\u001b[49m\u001b[43m(\u001b[49m\u001b[38;5;28;43mself\u001b[39;49m\u001b[43m,\u001b[49m\u001b[43m \u001b[49m\u001b[38;5;241;43m*\u001b[39;49m\u001b[38;5;241;43m*\u001b[39;49m\u001b[43mkws\u001b[49m\u001b[43m)\u001b[49m\n\u001b[0;32m    111\u001b[0m \u001b[38;5;28;01mfor\u001b[39;00m kb \u001b[38;5;129;01min\u001b[39;00m \u001b[38;5;28mself\u001b[39m\u001b[38;5;241m.\u001b[39mknowledge_bases\u001b[38;5;241m.\u001b[39mvalues(): kb\u001b[38;5;241m.\u001b[39minit2()\n\u001b[0;32m    112\u001b[0m \u001b[38;5;28;01mfor\u001b[39;00m rb \u001b[38;5;129;01min\u001b[39;00m \u001b[38;5;28mself\u001b[39m\u001b[38;5;241m.\u001b[39mrule_bases\u001b[38;5;241m.\u001b[39mvalues(): rb\u001b[38;5;241m.\u001b[39minit2()\n",
      "File \u001b[1;32mc:\\Users\\gprau\\AppData\\Local\\Programs\\Python\\Python311\\Lib\\site-packages\\pyke-1.1.1-py3.11.egg\\pyke\\target_pkg.py:366\u001b[0m, in \u001b[0;36mtarget_pkg.load\u001b[1;34m(self, engine, load_fc, load_bc, load_fb, load_qb)\u001b[0m\n\u001b[0;32m    364\u001b[0m \u001b[38;5;28;01mfor\u001b[39;00m target_filename \u001b[38;5;129;01min\u001b[39;00m value[\u001b[38;5;241m1\u001b[39m:]:\n\u001b[0;32m    365\u001b[0m     \u001b[38;5;28;01mif\u001b[39;00m debug: \u001b[38;5;28mprint\u001b[39m(\u001b[38;5;124m\"\u001b[39m\u001b[38;5;124mload:\u001b[39m\u001b[38;5;124m\"\u001b[39m, target_filename, file\u001b[38;5;241m=\u001b[39msys\u001b[38;5;241m.\u001b[39mstderr)\n\u001b[1;32m--> 366\u001b[0m     \u001b[38;5;28;43mself\u001b[39;49m\u001b[38;5;241;43m.\u001b[39;49m\u001b[43mdo_by_ext\u001b[49m\u001b[43m(\u001b[49m\u001b[38;5;124;43m'\u001b[39;49m\u001b[38;5;124;43mload\u001b[39;49m\u001b[38;5;124;43m'\u001b[39;49m\u001b[43m,\u001b[49m\u001b[43m \u001b[49m\u001b[43mtarget_filename\u001b[49m\u001b[43m,\u001b[49m\u001b[43m \u001b[49m\u001b[43mengine\u001b[49m\u001b[43m,\u001b[49m\u001b[43m \u001b[49m\u001b[43mload_flags\u001b[49m\u001b[43m)\u001b[49m\n",
      "File \u001b[1;32mc:\\Users\\gprau\\AppData\\Local\\Programs\\Python\\Python311\\Lib\\site-packages\\pyke-1.1.1-py3.11.egg\\pyke\\target_pkg.py:265\u001b[0m, in \u001b[0;36mtarget_pkg.do_by_ext\u001b[1;34m(self, prefix, filename, *args)\u001b[0m\n\u001b[0;32m    263\u001b[0m \u001b[38;5;28;01mdef\u001b[39;00m \u001b[38;5;21mdo_by_ext\u001b[39m(\u001b[38;5;28mself\u001b[39m, prefix, filename, \u001b[38;5;241m*\u001b[39margs):\n\u001b[0;32m    264\u001b[0m     ext \u001b[38;5;241m=\u001b[39m os\u001b[38;5;241m.\u001b[39mpath\u001b[38;5;241m.\u001b[39msplitext(filename)[\u001b[38;5;241m1\u001b[39m][\u001b[38;5;241m1\u001b[39m:]\n\u001b[1;32m--> 265\u001b[0m     \u001b[38;5;28;01mreturn\u001b[39;00m \u001b[38;5;28;43mgetattr\u001b[39;49m\u001b[43m(\u001b[49m\u001b[38;5;28;43mself\u001b[39;49m\u001b[43m,\u001b[49m\u001b[43m \u001b[49m\u001b[38;5;124;43m\"\u001b[39;49m\u001b[38;5;132;43;01m%s\u001b[39;49;00m\u001b[38;5;124;43m_\u001b[39;49m\u001b[38;5;132;43;01m%s\u001b[39;49;00m\u001b[38;5;124;43m\"\u001b[39;49m\u001b[43m \u001b[49m\u001b[38;5;241;43m%\u001b[39;49m\u001b[43m \u001b[49m\u001b[43m(\u001b[49m\u001b[43mprefix\u001b[49m\u001b[43m,\u001b[49m\u001b[43m \u001b[49m\u001b[43mext\u001b[49m\u001b[43m)\u001b[49m\u001b[43m)\u001b[49m\u001b[43m(\u001b[49m\u001b[43mfilename\u001b[49m\u001b[43m,\u001b[49m\u001b[43m \u001b[49m\u001b[38;5;241;43m*\u001b[39;49m\u001b[43margs\u001b[49m\u001b[43m)\u001b[49m\n",
      "File \u001b[1;32mc:\\Users\\gprau\\AppData\\Local\\Programs\\Python\\Python311\\Lib\\site-packages\\pyke-1.1.1-py3.11.egg\\pyke\\target_pkg.py:377\u001b[0m, in \u001b[0;36mtarget_pkg.load_py\u001b[1;34m(self, target_filename, engine, flags)\u001b[0m\n\u001b[0;32m    375\u001b[0m \u001b[38;5;28;01melif\u001b[39;00m target_module\u001b[38;5;241m.\u001b[39mendswith(\u001b[38;5;124m'\u001b[39m\u001b[38;5;124m_bc\u001b[39m\u001b[38;5;124m'\u001b[39m):\n\u001b[0;32m    376\u001b[0m     \u001b[38;5;28;01mif\u001b[39;00m flags[\u001b[38;5;124m'\u001b[39m\u001b[38;5;124mload_bc\u001b[39m\u001b[38;5;124m'\u001b[39m]:\n\u001b[1;32m--> 377\u001b[0m         \u001b[38;5;28;43mself\u001b[39;49m\u001b[38;5;241;43m.\u001b[39;49m\u001b[43mload_module\u001b[49m\u001b[43m(\u001b[49m\u001b[43mmodule_path\u001b[49m\u001b[43m,\u001b[49m\u001b[43m \u001b[49m\u001b[43mtarget_filename\u001b[49m\u001b[43m,\u001b[49m\u001b[43m \u001b[49m\u001b[43mengine\u001b[49m\u001b[43m)\u001b[49m\n\u001b[0;32m    378\u001b[0m \u001b[38;5;28;01melif\u001b[39;00m target_module\u001b[38;5;241m.\u001b[39mendswith(\u001b[38;5;124m'\u001b[39m\u001b[38;5;124m_plans\u001b[39m\u001b[38;5;124m'\u001b[39m):\n\u001b[0;32m    379\u001b[0m     \u001b[38;5;28;01mif\u001b[39;00m flags[\u001b[38;5;124m'\u001b[39m\u001b[38;5;124mload_bc\u001b[39m\u001b[38;5;124m'\u001b[39m]:\n",
      "File \u001b[1;32mc:\\Users\\gprau\\AppData\\Local\\Programs\\Python\\Python311\\Lib\\site-packages\\pyke-1.1.1-py3.11.egg\\pyke\\target_pkg.py:414\u001b[0m, in \u001b[0;36mtarget_pkg.load_module\u001b[1;34m(self, module_path, filename, engine, do_import)\u001b[0m\n\u001b[0;32m    408\u001b[0m \u001b[38;5;28;01mif\u001b[39;00m module \u001b[38;5;129;01mis\u001b[39;00m \u001b[38;5;129;01mnot\u001b[39;00m \u001b[38;5;28;01mNone\u001b[39;00m \u001b[38;5;129;01mand\u001b[39;00m \\\n\u001b[0;32m    409\u001b[0m    \u001b[38;5;28mgetattr\u001b[39m(module, \u001b[38;5;124m'\u001b[39m\u001b[38;5;124mcompiler_version\u001b[39m\u001b[38;5;124m'\u001b[39m, \u001b[38;5;241m0\u001b[39m) \u001b[38;5;241m!=\u001b[39m pyke\u001b[38;5;241m.\u001b[39mcompiler_version:\n\u001b[0;32m    410\u001b[0m     \u001b[38;5;28;01mraise\u001b[39;00m \u001b[38;5;167;01mAssertionError\u001b[39;00m(\u001b[38;5;124m\"\u001b[39m\u001b[38;5;132;01m%s\u001b[39;00m\u001b[38;5;124m: incorrect pyke version: running \u001b[39m\u001b[38;5;124m\"\u001b[39m\n\u001b[0;32m    411\u001b[0m                          \u001b[38;5;124m\"\u001b[39m\u001b[38;5;132;01m%s\u001b[39;00m\u001b[38;5;124m, expected \u001b[39m\u001b[38;5;132;01m%s\u001b[39;00m\u001b[38;5;124m\"\u001b[39m \u001b[38;5;241m%\u001b[39m\n\u001b[0;32m    412\u001b[0m                            (filename, pyke\u001b[38;5;241m.\u001b[39mversion,\n\u001b[0;32m    413\u001b[0m                             module\u001b[38;5;241m.\u001b[39mpyke_version))\n\u001b[1;32m--> 414\u001b[0m \u001b[38;5;28;01mif\u001b[39;00m do_import: \u001b[43mmodule\u001b[49m\u001b[38;5;241;43m.\u001b[39;49m\u001b[43mpopulate\u001b[49m\u001b[43m(\u001b[49m\u001b[43mengine\u001b[49m\u001b[43m)\u001b[49m\n",
      "File \u001b[1;32mh:\\Unioeste\\2023\\IA\\SE\\computer-diagnosis\\compiled_krb\\motherboardFailure_bc.py:808\u001b[0m, in \u001b[0;36mpopulate\u001b[1;34m(engine)\u001b[0m\n\u001b[0;32m    792\u001b[0m bc_rule\u001b[38;5;241m.\u001b[39mbc_rule(\u001b[38;5;124m'\u001b[39m\u001b[38;5;124mwhat_to_do_check_motherboard_manufacturer_website_swap_or_shuffle_ram\u001b[39m\u001b[38;5;124m'\u001b[39m, This_rule_base, \u001b[38;5;124m'\u001b[39m\u001b[38;5;124mwhat_to_do\u001b[39m\u001b[38;5;124m'\u001b[39m,\n\u001b[0;32m    793\u001b[0m                 what_to_do_check_motherboard_manufacturer_website_swap_or_shuffle_ram, \u001b[38;5;28;01mNone\u001b[39;00m,\n\u001b[0;32m    794\u001b[0m                 (pattern\u001b[38;5;241m.\u001b[39mpattern_literal(\u001b[38;5;124m\"\u001b[39m\u001b[38;5;124mConfira o site do fabricante a placa-mae, troque de posição ou utilize outras memorias ram\u001b[39m\u001b[38;5;124m\"\u001b[39m),),\n\u001b[1;32m   (...)\u001b[0m\n\u001b[0;32m    797\u001b[0m                  pattern\u001b[38;5;241m.\u001b[39mpattern_literal(\u001b[38;5;28;01mTrue\u001b[39;00m),\n\u001b[0;32m    798\u001b[0m                  pattern\u001b[38;5;241m.\u001b[39mpattern_literal(\u001b[38;5;28;01mFalse\u001b[39;00m),))\n\u001b[0;32m    800\u001b[0m bc_rule\u001b[38;5;241m.\u001b[39mbc_rule(\u001b[38;5;124m'\u001b[39m\u001b[38;5;124mwhat_to_do_proceed_to_drive_failure\u001b[39m\u001b[38;5;124m'\u001b[39m, This_rule_base, \u001b[38;5;124m'\u001b[39m\u001b[38;5;124mwhat_to_do\u001b[39m\u001b[38;5;124m'\u001b[39m,\n\u001b[0;32m    801\u001b[0m                 what_to_do_proceed_to_drive_failure, \u001b[38;5;28;01mNone\u001b[39;00m,\n\u001b[0;32m    802\u001b[0m                 (pattern\u001b[38;5;241m.\u001b[39mpattern_literal(\u001b[38;5;124m\"\u001b[39m\u001b[38;5;124mRestarte o programa e inicie a opção de drive failure.\u001b[39m\u001b[38;5;124m\"\u001b[39m),),\n\u001b[1;32m   (...)\u001b[0m\n\u001b[0;32m    805\u001b[0m                  pattern\u001b[38;5;241m.\u001b[39mpattern_literal(\u001b[38;5;28;01mTrue\u001b[39;00m),\n\u001b[0;32m    806\u001b[0m                  pattern\u001b[38;5;241m.\u001b[39mpattern_literal(\u001b[38;5;28;01mFalse\u001b[39;00m),))\n\u001b[1;32m--> 808\u001b[0m \u001b[43mbc_rule\u001b[49m\u001b[38;5;241;43m.\u001b[39;49m\u001b[43mbc_rule\u001b[49m\u001b[43m(\u001b[49m\u001b[38;5;124;43m'\u001b[39;49m\u001b[38;5;124;43mwhat_to_do_proceed_to_drive_failure\u001b[39;49m\u001b[38;5;124;43m'\u001b[39;49m\u001b[43m,\u001b[49m\u001b[43m \u001b[49m\u001b[43mThis_rule_base\u001b[49m\u001b[43m,\u001b[49m\u001b[43m \u001b[49m\u001b[38;5;124;43m'\u001b[39;49m\u001b[38;5;124;43mwhat_to_do\u001b[39;49m\u001b[38;5;124;43m'\u001b[39;49m\u001b[43m,\u001b[49m\n\u001b[0;32m    809\u001b[0m \u001b[43m                \u001b[49m\u001b[43mwhat_to_do_proceed_to_drive_failure\u001b[49m\u001b[43m,\u001b[49m\u001b[43m \u001b[49m\u001b[38;5;28;43;01mNone\u001b[39;49;00m\u001b[43m,\u001b[49m\n\u001b[0;32m    810\u001b[0m \u001b[43m                \u001b[49m\u001b[43m(\u001b[49m\u001b[43mpattern\u001b[49m\u001b[38;5;241;43m.\u001b[39;49m\u001b[43mpattern_literal\u001b[49m\u001b[43m(\u001b[49m\u001b[38;5;124;43m\"\u001b[39;49m\u001b[38;5;124;43mRestarte o programa e inicie a opção de HD failure.\u001b[39;49m\u001b[38;5;124;43m\"\u001b[39;49m\u001b[43m)\u001b[49m\u001b[43m,\u001b[49m\u001b[43m)\u001b[49m\u001b[43m,\u001b[49m\n\u001b[0;32m    811\u001b[0m \u001b[43m                \u001b[49m\u001b[43m(\u001b[49m\u001b[43m)\u001b[49m\u001b[43m,\u001b[49m\n\u001b[0;32m    812\u001b[0m \u001b[43m                \u001b[49m\u001b[43m(\u001b[49m\u001b[43mcontexts\u001b[49m\u001b[38;5;241;43m.\u001b[39;49m\u001b[43mvariable\u001b[49m\u001b[43m(\u001b[49m\u001b[38;5;124;43m'\u001b[39;49m\u001b[38;5;124;43mans\u001b[39;49m\u001b[38;5;124;43m'\u001b[39;49m\u001b[43m)\u001b[49m\u001b[43m,\u001b[49m\n\u001b[0;32m    813\u001b[0m \u001b[43m                 \u001b[49m\u001b[43mpattern\u001b[49m\u001b[38;5;241;43m.\u001b[39;49m\u001b[43mpattern_literal\u001b[49m\u001b[43m(\u001b[49m\u001b[38;5;28;43;01mTrue\u001b[39;49;00m\u001b[43m)\u001b[49m\u001b[43m,\u001b[49m\u001b[43m)\u001b[49m\u001b[43m)\u001b[49m\n\u001b[0;32m    815\u001b[0m bc_rule\u001b[38;5;241m.\u001b[39mbc_rule(\u001b[38;5;124m'\u001b[39m\u001b[38;5;124mwhat_to_do_remove_motherboard_battery_wait_one_hour\u001b[39m\u001b[38;5;124m'\u001b[39m, This_rule_base, \u001b[38;5;124m'\u001b[39m\u001b[38;5;124mwhat_to_do\u001b[39m\u001b[38;5;124m'\u001b[39m,\n\u001b[0;32m    816\u001b[0m                 what_to_do_remove_motherboard_battery_wait_one_hour, \u001b[38;5;28;01mNone\u001b[39;00m,\n\u001b[0;32m    817\u001b[0m                 (pattern\u001b[38;5;241m.\u001b[39mpattern_literal(\u001b[38;5;124m\"\u001b[39m\u001b[38;5;124mTire a bateria da placa-mae e espere uma hora\u001b[39m\u001b[38;5;124m\"\u001b[39m),),\n\u001b[0;32m    818\u001b[0m                 (),\n\u001b[0;32m    819\u001b[0m                 (contexts\u001b[38;5;241m.\u001b[39mvariable(\u001b[38;5;124m'\u001b[39m\u001b[38;5;124mans\u001b[39m\u001b[38;5;124m'\u001b[39m),\n\u001b[0;32m    820\u001b[0m                  pattern\u001b[38;5;241m.\u001b[39mpattern_literal(\u001b[38;5;28;01mTrue\u001b[39;00m),))\n\u001b[0;32m    822\u001b[0m bc_rule\u001b[38;5;241m.\u001b[39mbc_rule(\u001b[38;5;124m'\u001b[39m\u001b[38;5;124mwhat_to_do_check_fan_power_point_may_not_come_on_instantly_at_boot\u001b[39m\u001b[38;5;124m'\u001b[39m, This_rule_base, \u001b[38;5;124m'\u001b[39m\u001b[38;5;124mwhat_to_do\u001b[39m\u001b[38;5;124m'\u001b[39m,\n\u001b[0;32m    823\u001b[0m                 what_to_do_check_fan_power_point_may_not_come_on_instantly_at_boot, \u001b[38;5;28;01mNone\u001b[39;00m,\n\u001b[0;32m    824\u001b[0m                 (pattern\u001b[38;5;241m.\u001b[39mpattern_literal(\u001b[38;5;124m\"\u001b[39m\u001b[38;5;124mCheque a fonte de energia do fan, pode nao chegar ao dar o boot\u001b[39m\u001b[38;5;124m\"\u001b[39m),),\n\u001b[0;32m    825\u001b[0m                 (),\n\u001b[0;32m    826\u001b[0m                 (contexts\u001b[38;5;241m.\u001b[39mvariable(\u001b[38;5;124m'\u001b[39m\u001b[38;5;124mans\u001b[39m\u001b[38;5;124m'\u001b[39m),\n\u001b[0;32m    827\u001b[0m                  pattern\u001b[38;5;241m.\u001b[39mpattern_literal(\u001b[38;5;28;01mFalse\u001b[39;00m),))\n",
      "File \u001b[1;32mc:\\Users\\gprau\\AppData\\Local\\Programs\\Python\\Python311\\Lib\\site-packages\\pyke-1.1.1-py3.11.egg\\pyke\\bc_rule.py:40\u001b[0m, in \u001b[0;36mbc_rule.__init__\u001b[1;34m(self, name, rule_base, goal_name, bc_fn, plan_fn, goal_arg_patterns, plan_vars, patterns)\u001b[0m\n\u001b[0;32m     38\u001b[0m \u001b[38;5;28mself\u001b[39m\u001b[38;5;241m.\u001b[39mgoal_arg_pats \u001b[38;5;241m=\u001b[39m goal_arg_patterns\n\u001b[0;32m     39\u001b[0m \u001b[38;5;28mself\u001b[39m\u001b[38;5;241m.\u001b[39mplan_vars \u001b[38;5;241m=\u001b[39m plan_vars\n\u001b[1;32m---> 40\u001b[0m \u001b[43mrule_base\u001b[49m\u001b[38;5;241;43m.\u001b[39;49m\u001b[43madd_bc_rule\u001b[49m\u001b[43m(\u001b[49m\u001b[38;5;28;43mself\u001b[39;49m\u001b[43m)\u001b[49m\n",
      "File \u001b[1;32mc:\\Users\\gprau\\AppData\\Local\\Programs\\Python\\Python311\\Lib\\site-packages\\pyke-1.1.1-py3.11.egg\\pyke\\rule_base.py:110\u001b[0m, in \u001b[0;36mrule_base.add_bc_rule\u001b[1;34m(self, bc_rule)\u001b[0m\n\u001b[0;32m    108\u001b[0m \u001b[38;5;28;01mdef\u001b[39;00m \u001b[38;5;21madd_bc_rule\u001b[39m(\u001b[38;5;28mself\u001b[39m, bc_rule):\n\u001b[0;32m    109\u001b[0m     \u001b[38;5;28;01mif\u001b[39;00m bc_rule\u001b[38;5;241m.\u001b[39mname \u001b[38;5;129;01min\u001b[39;00m \u001b[38;5;28mself\u001b[39m\u001b[38;5;241m.\u001b[39mrules:\n\u001b[1;32m--> 110\u001b[0m         \u001b[38;5;28;01mraise\u001b[39;00m \u001b[38;5;167;01mAssertionError\u001b[39;00m(\u001b[38;5;124m\"\u001b[39m\u001b[38;5;132;01m%s\u001b[39;00m\u001b[38;5;124m rule_base: duplicate rule name: \u001b[39m\u001b[38;5;132;01m%s\u001b[39;00m\u001b[38;5;124m\"\u001b[39m \u001b[38;5;241m%\u001b[39m\n\u001b[0;32m    111\u001b[0m                              (\u001b[38;5;28mself\u001b[39m\u001b[38;5;241m.\u001b[39mname, bc_rule\u001b[38;5;241m.\u001b[39mname))\n\u001b[0;32m    112\u001b[0m     \u001b[38;5;28mself\u001b[39m\u001b[38;5;241m.\u001b[39mrules[bc_rule\u001b[38;5;241m.\u001b[39mname] \u001b[38;5;241m=\u001b[39m bc_rule\n\u001b[0;32m    113\u001b[0m     \u001b[38;5;28mself\u001b[39m\u001b[38;5;241m.\u001b[39mget_entity_list(bc_rule\u001b[38;5;241m.\u001b[39mgoal_name)\u001b[38;5;241m.\u001b[39madd_bc_rule(bc_rule)\n",
      "\u001b[1;31mAssertionError\u001b[0m: motherboardFailure rule_base: duplicate rule name: what_to_do_proceed_to_drive_failure"
     ]
    }
   ],
   "source": [
    "#Run this cell\n",
    "import sys\n",
    "# The following command points your notebook to the location of a folder outside your working directory that you want to import.\n",
    "sys.path.append(r'H:\\Unioeste\\2023\\IA\\SE\\computer-diagnosis')\n",
    "#sys.path.append('yourpath')\n",
    "import driver\n",
    "\n",
    "driver.hardware_diagnosis_questions()\n"
   ]
  }
 ],
 "metadata": {
  "kernelspec": {
   "display_name": "Python 3",
   "language": "python",
   "name": "python3"
  },
  "language_info": {
   "codemirror_mode": {
    "name": "ipython",
    "version": 3
   },
   "file_extension": ".py",
   "mimetype": "text/x-python",
   "name": "python",
   "nbconvert_exporter": "python",
   "pygments_lexer": "ipython3",
   "version": "3.11.8"
  }
 },
 "nbformat": 4,
 "nbformat_minor": 2
}
