{
 "cells": [
  {
   "cell_type": "markdown",
   "metadata": {},
   "source": [
    "# PyKE Coding Simple Example\n",
    "- Course: BMIN 520 (AI 1: Fundamentals of Artificial Intelligence)\n",
    "- Institution: University of Pennsylvania\n",
    "- Course Director: Ryan Urbanowicz, PhD\n",
    "- Due date: NA"
   ]
  },
  {
   "cell_type": "markdown",
   "metadata": {},
   "source": [
    "---\n",
    "## Subtask 1 - Learn how to code your own basic backward chaining expert system:\n",
    "\n",
    "A very simple set of code has been provided as template for how to create your own backward chaining expert system.  Specifically this system decides what you should bring when walking out of the house (i.e. an umbrella, a raincoat, or nothing). This in the zipped folder 'simple_bc_all'. Follow the instructions below:\n",
    "- Unzip this folder and copy it into your working directory.\n",
    "- Examine 'facts.kfb' in a text or python editor.\n",
    "    - To simplify things, this file hard codes all the facts (about the weather) that are needed to make the decision of what to bring outside.\n",
    "    - Note that the text, 'True' or 'False' is intended to be used in these facts.  \n",
    "- Examine 'bc_simple_rules.krb' in a text or python editor.\n",
    "    - Each of the four code chunks represent backward chaining rules\n",
    "    - Syntax of a PyKE rule:\n",
    "        - The first line gives a unique rule name\n",
    "        - The next line is the 'THEN' part of the rule, designated by the word 'use'.\n",
    "        - The next third line is the 'IF' part of the rule, designated by the word 'when'.\n",
    "            - Each subsequent line is an 'IF' condition that must be satified for the 'THEN' part of the rule to be satisfied.\n",
    "            - Note that whenever a fact from the fact base is to be sought, the line begins with the name of the fact base and a '.', (i.e. facts.)\n",
    "            \n",
    "- Examine 'driver_simple.py' in a text or python editor.\n",
    "    - This code initializes the PyKE engine, and includes a function, 'bc_test', to run the expert system. It is very similar to the functions introduced in the PyKE family relationship examples.\n",
    "    - Comments have been added to this code to point out the lines that you will need to edit later to make your own simple expert system.\n",
    "- Edit the path (in the sys.path.append()) to the 'simple_bc_all' folder, to match the folder hierarchy on your computer.\n",
    "- Run the cell below to confirm that it is working. \n",
    "    - Since the fact base indicates that it is both raining and windy, the system should indicate that a raincoat should be brought."
   ]
  },
  {
   "cell_type": "code",
<<<<<<< HEAD
   "execution_count": 1,
=======
   "execution_count": 8,
>>>>>>> 6dabb801ed42a487f133daf830c0f429c2d35154
   "metadata": {},
   "outputs": [
    {
     "name": "stderr",
     "output_type": "stream",
     "text": [
      "writing [compiled_krb]/facts.fbc\n",
<<<<<<< HEAD
      "c:\\Python311\\Lib\\site-packages\\pyke-1.1.1-py3.11.egg\\pyke\\krb_compiler\\kqb_parser.py:35: FutureWarning: Possible nested set at position 122\n",
      "  tokenizer = re.compile(r''' [ \\t\\f\\r\\v]* (?: \\#.* )? (?:\n"
     ]
    },
    {
     "ename": "ValueError",
     "evalue": "invalid mode: 'rU'",
     "output_type": "error",
     "traceback": [
      "\u001b[1;31m---------------------------------------------------------------------------\u001b[0m",
      "\u001b[1;31mValueError\u001b[0m                                Traceback (most recent call last)",
      "Cell \u001b[1;32mIn[1], line 6\u001b[0m\n\u001b[0;32m      4\u001b[0m sys\u001b[38;5;241m.\u001b[39mpath\u001b[38;5;241m.\u001b[39mappend(\u001b[38;5;124mr\u001b[39m\u001b[38;5;124m'\u001b[39m\u001b[38;5;124mC:\u001b[39m\u001b[38;5;124m\\\u001b[39m\u001b[38;5;124mUsers\u001b[39m\u001b[38;5;124m\\\u001b[39m\u001b[38;5;124maugus\u001b[39m\u001b[38;5;124m\\\u001b[39m\u001b[38;5;124mPictures\u001b[39m\u001b[38;5;124m\\\u001b[39m\u001b[38;5;124mAugusto\u001b[39m\u001b[38;5;124m\\\u001b[39m\u001b[38;5;124mIA\u001b[39m\u001b[38;5;124m\\\u001b[39m\u001b[38;5;124mSE\u001b[39m\u001b[38;5;124m\\\u001b[39m\u001b[38;5;124mtrabalho\u001b[39m\u001b[38;5;124m\\\u001b[39m\u001b[38;5;124mcomputer-diagnosis\u001b[39m\u001b[38;5;124m'\u001b[39m)\n\u001b[0;32m      5\u001b[0m \u001b[38;5;66;03m#sys.path.append('yourpath')\u001b[39;00m\n\u001b[1;32m----> 6\u001b[0m \u001b[38;5;28;01mimport\u001b[39;00m \u001b[38;5;21;01mdriver\u001b[39;00m\n\u001b[0;32m      8\u001b[0m driver\u001b[38;5;241m.\u001b[39mhardware_diagnosis_questions()\n",
      "File \u001b[1;32mc:\\Users\\augus\\Pictures\\Augusto\\IA\\SE\\trabalho\\computer-diagnosis\\driver.py:10\u001b[0m\n\u001b[0;32m      7\u001b[0m \u001b[38;5;28;01mfrom\u001b[39;00m \u001b[38;5;21;01mpyke\u001b[39;00m \u001b[38;5;28;01mimport\u001b[39;00m knowledge_engine\n\u001b[0;32m      8\u001b[0m \u001b[38;5;28;01mfrom\u001b[39;00m \u001b[38;5;21;01mpyke\u001b[39;00m \u001b[38;5;28;01mimport\u001b[39;00m krb_traceback\n\u001b[1;32m---> 10\u001b[0m engine \u001b[38;5;241m=\u001b[39m \u001b[43mknowledge_engine\u001b[49m\u001b[38;5;241;43m.\u001b[39;49m\u001b[43mengine\u001b[49m\u001b[43m(\u001b[49m\u001b[38;5;18;43m__file__\u001b[39;49m\u001b[43m)\u001b[49m\n\u001b[0;32m     13\u001b[0m \u001b[38;5;28;01mdef\u001b[39;00m \u001b[38;5;21mhardware_diagnosis_questions\u001b[39m():\n\u001b[0;32m     15\u001b[0m     engine\u001b[38;5;241m.\u001b[39mreset()      \u001b[38;5;66;03m# Allows us to run tests multiple times.\u001b[39;00m\n",
      "File \u001b[1;32mc:\\Python311\\Lib\\site-packages\\pyke-1.1.1-py3.11.egg\\pyke\\knowledge_engine.py:108\u001b[0m, in \u001b[0;36mengine.__init__\u001b[1;34m(self, *search_paths, **kws)\u001b[0m\n\u001b[0;32m    106\u001b[0m \u001b[38;5;28;01mif\u001b[39;00m debug:\n\u001b[0;32m    107\u001b[0m     \u001b[38;5;28mprint\u001b[39m(\u001b[38;5;124m\"\u001b[39m\u001b[38;5;124mtarget_package:\u001b[39m\u001b[38;5;124m\"\u001b[39m, target_package, file\u001b[38;5;241m=\u001b[39msys\u001b[38;5;241m.\u001b[39mstderr)\n\u001b[1;32m--> 108\u001b[0m \u001b[43mtarget_package\u001b[49m\u001b[38;5;241;43m.\u001b[39;49m\u001b[43mcompile\u001b[49m\u001b[43m(\u001b[49m\u001b[38;5;28;43mself\u001b[39;49m\u001b[43m)\u001b[49m\n\u001b[0;32m    109\u001b[0m target_package\u001b[38;5;241m.\u001b[39mwrite()\n\u001b[0;32m    110\u001b[0m target_package\u001b[38;5;241m.\u001b[39mload(\u001b[38;5;28mself\u001b[39m, \u001b[38;5;241m*\u001b[39m\u001b[38;5;241m*\u001b[39mkws)\n",
      "File \u001b[1;32mc:\\Python311\\Lib\\site-packages\\pyke-1.1.1-py3.11.egg\\pyke\\target_pkg.py:285\u001b[0m, in \u001b[0;36mtarget_pkg.compile\u001b[1;34m(self, engine)\u001b[0m\n\u001b[0;32m    282\u001b[0m         \u001b[38;5;28;01mfrom\u001b[39;00m \u001b[38;5;21;01mpyke\u001b[39;00m \u001b[38;5;28;01mimport\u001b[39;00m krb_compiler\n\u001b[0;32m    283\u001b[0m     initialized \u001b[38;5;241m=\u001b[39m \u001b[38;5;28;01mTrue\u001b[39;00m\n\u001b[0;32m    284\u001b[0m target_files \u001b[38;5;241m=\u001b[39m \\\n\u001b[1;32m--> 285\u001b[0m     \u001b[38;5;28;43mself\u001b[39;49m\u001b[38;5;241;43m.\u001b[39;49m\u001b[43mdo_by_ext\u001b[49m\u001b[43m(\u001b[49m\u001b[38;5;124;43m'\u001b[39;49m\u001b[38;5;124;43mcompile\u001b[39;49m\u001b[38;5;124;43m'\u001b[39;49m\u001b[43m,\u001b[49m\n\u001b[0;32m    286\u001b[0m \u001b[43m        \u001b[49m\u001b[43mos\u001b[49m\u001b[38;5;241;43m.\u001b[39;49m\u001b[43mpath\u001b[49m\u001b[38;5;241;43m.\u001b[39;49m\u001b[43mjoin\u001b[49m\u001b[43m(\u001b[49m\n\u001b[0;32m    287\u001b[0m \u001b[43m            \u001b[49m\u001b[38;5;28;43mself\u001b[39;49m\u001b[38;5;241;43m.\u001b[39;49m\u001b[43msource_packages\u001b[49m\u001b[43m[\u001b[49m\u001b[43msource_package_name\u001b[49m\u001b[43m,\u001b[49m\n\u001b[0;32m    288\u001b[0m \u001b[43m                                 \u001b[49m\u001b[43mpath_from_package\u001b[49m\u001b[43m]\u001b[49m\u001b[43m,\u001b[49m\n\u001b[0;32m    289\u001b[0m \u001b[43m            \u001b[49m\u001b[43msource_filename\u001b[49m\u001b[43m)\u001b[49m\u001b[43m)\u001b[49m\n\u001b[0;32m    290\u001b[0m \u001b[38;5;28;01mif\u001b[39;00m debug: \u001b[38;5;28mprint\u001b[39m(\u001b[38;5;124m\"\u001b[39m\u001b[38;5;124mtarget_files:\u001b[39m\u001b[38;5;124m\"\u001b[39m, target_files, file\u001b[38;5;241m=\u001b[39msys\u001b[38;5;241m.\u001b[39mstderr)\n\u001b[0;32m    291\u001b[0m value\u001b[38;5;241m.\u001b[39mappend(time\u001b[38;5;241m.\u001b[39mtime())\n",
      "File \u001b[1;32mc:\\Python311\\Lib\\site-packages\\pyke-1.1.1-py3.11.egg\\pyke\\target_pkg.py:265\u001b[0m, in \u001b[0;36mtarget_pkg.do_by_ext\u001b[1;34m(self, prefix, filename, *args)\u001b[0m\n\u001b[0;32m    263\u001b[0m \u001b[38;5;28;01mdef\u001b[39;00m \u001b[38;5;21mdo_by_ext\u001b[39m(\u001b[38;5;28mself\u001b[39m, prefix, filename, \u001b[38;5;241m*\u001b[39margs):\n\u001b[0;32m    264\u001b[0m     ext \u001b[38;5;241m=\u001b[39m os\u001b[38;5;241m.\u001b[39mpath\u001b[38;5;241m.\u001b[39msplitext(filename)[\u001b[38;5;241m1\u001b[39m][\u001b[38;5;241m1\u001b[39m:]\n\u001b[1;32m--> 265\u001b[0m     \u001b[38;5;28;01mreturn\u001b[39;00m \u001b[38;5;28;43mgetattr\u001b[39;49m\u001b[43m(\u001b[49m\u001b[38;5;28;43mself\u001b[39;49m\u001b[43m,\u001b[49m\u001b[43m \u001b[49m\u001b[38;5;124;43m\"\u001b[39;49m\u001b[38;5;132;43;01m%s\u001b[39;49;00m\u001b[38;5;124;43m_\u001b[39;49m\u001b[38;5;132;43;01m%s\u001b[39;49;00m\u001b[38;5;124;43m\"\u001b[39;49m\u001b[43m \u001b[49m\u001b[38;5;241;43m%\u001b[39;49m\u001b[43m \u001b[49m\u001b[43m(\u001b[49m\u001b[43mprefix\u001b[49m\u001b[43m,\u001b[49m\u001b[43m \u001b[49m\u001b[43mext\u001b[49m\u001b[43m)\u001b[49m\u001b[43m)\u001b[49m\u001b[43m(\u001b[49m\u001b[43mfilename\u001b[49m\u001b[43m,\u001b[49m\u001b[43m \u001b[49m\u001b[38;5;241;43m*\u001b[39;49m\u001b[43margs\u001b[49m\u001b[43m)\u001b[49m\n",
      "File \u001b[1;32mc:\\Python311\\Lib\\site-packages\\pyke-1.1.1-py3.11.egg\\pyke\\target_pkg.py:317\u001b[0m, in \u001b[0;36mtarget_pkg.compile_kqb\u001b[1;34m(self, source_filename)\u001b[0m\n\u001b[0;32m    315\u001b[0m     qbc_name \u001b[38;5;241m=\u001b[39m os\u001b[38;5;241m.\u001b[39mpath\u001b[38;5;241m.\u001b[39mbasename(source_filename)[:\u001b[38;5;241m-\u001b[39m\u001b[38;5;241m4\u001b[39m] \u001b[38;5;241m+\u001b[39m \u001b[38;5;124m'\u001b[39m\u001b[38;5;124m.qbc\u001b[39m\u001b[38;5;124m'\u001b[39m\n\u001b[0;32m    316\u001b[0m     qbc_path \u001b[38;5;241m=\u001b[39m os\u001b[38;5;241m.\u001b[39mpath\u001b[38;5;241m.\u001b[39mjoin(\u001b[38;5;28mself\u001b[39m\u001b[38;5;241m.\u001b[39mdirectory, qbc_name)\n\u001b[1;32m--> 317\u001b[0m     \u001b[38;5;28mself\u001b[39m\u001b[38;5;241m.\u001b[39mpickle_it(\u001b[43mkrb_compiler\u001b[49m\u001b[38;5;241;43m.\u001b[39;49m\u001b[43mcompile_kqb\u001b[49m\u001b[43m(\u001b[49m\u001b[43msource_filename\u001b[49m\u001b[43m)\u001b[49m, qbc_path)\n\u001b[0;32m    318\u001b[0m     \u001b[38;5;28;01mreturn\u001b[39;00m (qbc_name,)\n\u001b[0;32m    319\u001b[0m \u001b[38;5;28;01mexcept\u001b[39;00m:\n",
      "File \u001b[1;32mc:\\Python311\\Lib\\site-packages\\pyke-1.1.1-py3.11.egg\\pyke\\krb_compiler\\__init__.py:181\u001b[0m, in \u001b[0;36mcompile_kqb\u001b[1;34m(filename)\u001b[0m\n\u001b[0;32m    179\u001b[0m \u001b[38;5;28;01mexcept\u001b[39;00m \u001b[38;5;167;01mNameError\u001b[39;00m:\n\u001b[0;32m    180\u001b[0m     \u001b[38;5;28;01mfrom\u001b[39;00m \u001b[38;5;21;01mpyke\u001b[39;00m\u001b[38;5;21;01m.\u001b[39;00m\u001b[38;5;21;01mkrb_compiler\u001b[39;00m \u001b[38;5;28;01mimport\u001b[39;00m kqb_parser\n\u001b[1;32m--> 181\u001b[0m \u001b[38;5;28;01mreturn\u001b[39;00m \u001b[43mkqb_parser\u001b[49m\u001b[38;5;241;43m.\u001b[39;49m\u001b[43mparse_kqb\u001b[49m\u001b[43m(\u001b[49m\u001b[43mfilename\u001b[49m\u001b[43m)\u001b[49m\n",
      "File \u001b[1;32mc:\\Python311\\Lib\\site-packages\\pyke-1.1.1-py3.11.egg\\pyke\\krb_compiler\\kqb_parser.py:537\u001b[0m, in \u001b[0;36mparse_kqb\u001b[1;34m(filename)\u001b[0m\n\u001b[0;32m    535\u001b[0m \u001b[38;5;28;01mdef\u001b[39;00m \u001b[38;5;21mparse_kqb\u001b[39m(filename):\n\u001b[0;32m    536\u001b[0m     name \u001b[38;5;241m=\u001b[39m os\u001b[38;5;241m.\u001b[39mpath\u001b[38;5;241m.\u001b[39mbasename(filename)[:\u001b[38;5;241m-\u001b[39m\u001b[38;5;241m4\u001b[39m]\n\u001b[1;32m--> 537\u001b[0m     \u001b[38;5;28;01mwith\u001b[39;00m \u001b[38;5;28;43mopen\u001b[39;49m\u001b[43m(\u001b[49m\u001b[43mfilename\u001b[49m\u001b[43m,\u001b[49m\u001b[43m \u001b[49m\u001b[38;5;124;43m'\u001b[39;49m\u001b[38;5;124;43mrU\u001b[39;49m\u001b[38;5;124;43m'\u001b[39;49m\u001b[43m)\u001b[49m \u001b[38;5;28;01mas\u001b[39;00m f:\n\u001b[0;32m    538\u001b[0m         base \u001b[38;5;241m=\u001b[39m question_base\u001b[38;5;241m.\u001b[39mquestion_base(name)\n\u001b[0;32m    539\u001b[0m         parser \u001b[38;5;241m=\u001b[39m kqb_parser(f)\n",
      "\u001b[1;31mValueError\u001b[0m: invalid mode: 'rU'"
=======
      "writing [compiled_krb]/questions.qbc\n",
      "writing [compiled_krb]/rules_bc.py\n",
      "writing [compiled_krb]/compiled_pyke_files.py\n"
     ]
    },
    {
     "name": "stdout",
     "output_type": "stream",
     "text": [
      "doing proof\n",
      "______________________________________________________________________________\n",
      "______________________________________________________________________________\n",
      "\n",
      "done\n"
>>>>>>> 6dabb801ed42a487f133daf830c0f429c2d35154
     ]
    }
   ],
   "source": [
    "#Run this cell\n",
    "import sys\n",
    "# The following command points your notebook to the location of a folder outside your working directory that you want to import.\n",
    "sys.path.append('C:\\Users\\augus\\Pictures\\Augusto\\IA\\SE\\trabalho\\computer-diagnosis')\n",
    "#sys.path.append('yourpath')\n",
    "import driver\n",
    "\n",
    "driver.hardware_diagnosis_questions()\n"
   ]
  },
  {
   "cell_type": "markdown",
   "metadata": {},
   "source": [
    "---\n",
    "## Subtask 2 - Learn how to give PyKE the ability to ask questions:\n",
    "Next we will extend the example above so that we will have PyKE ask the user questions along the way rather than hard code facts in a fact base (which is tedious for real world applications). All the code for this is already included in 'simple_bc_all'.\n",
    "- Examine 'questions.kqb' in a text or python editor.\n",
    "    - The system has been set up to ask three different questions, returning the answer to the rule base.\n",
    "    - Both yes/no (i.e. True/False) and selection 1 questions are asked as examples.\n",
    "- Examine 'bc_simple_rules_questions.krb' in a text or python editor.\n",
    "    - Each of the six code chunks represent backward chaining rules\n",
    "    - The backward chaining rule syntax is the same as above.\n",
    "        - Note that whenever a question is to be asked to satisfy an 'IF' condition, the line begins with the name of the question base and a '.', (i.e. questions.)\n",
    "  \n",
    "- Again examine 'driver_simple.py' in a text or python editor.\n",
    "    - This code initializes the PyKE engine, and includes a second function, 'bc_test_questions', to run the expert system. The only change to this function is the name of the rule base that is activated.\n",
    "- Edit and run the cell below to confirm that it is working. \n",
    "    - When run you should be prompted to answer questions, and when satisfied the system will respond with a suggestion of 'what to bring'.\n",
    "    - Try running this cell a few times, testing out different inputs to questions.\n",
    "    - You can also copy the code below into individual cells below and run answer the questions separately each time to save all of the results from each trial."
   ]
  },
  {
   "cell_type": "code",
   "execution_count": 3,
   "metadata": {},
   "outputs": [
    {
     "name": "stdout",
     "output_type": "stream",
     "text": [
      "doing proof\n",
      "______________________________________________________________________________\n",
      "Is it raining? (y/n) y\n",
      "______________________________________________________________________________\n",
      "Is it windy? (y/n) y\n",
      "You should bring: umbrella\n",
      "______________________________________________________________________________\n",
      "Are any of the following disasters currently occurring?\n",
      "  1. Forest Fire\n",
      "  2. Tornado\n",
      "  3. Hurricane\n",
      "  4. Pandemic\n",
      "  5. None of the above\n",
      "? [1-5] 1\n",
      "You should bring: marshmellos\n",
      "\n",
      "done\n"
     ]
    }
   ],
   "source": [
    "# ok"
   ]
  },
  {
   "cell_type": "code",
   "execution_count": 3,
   "metadata": {},
   "outputs": [
    {
     "name": "stdout",
     "output_type": "stream",
     "text": [
      "doing proof\n",
      "______________________________________________________________________________\n",
      "Is it raining? (y/n) y\n",
      "______________________________________________________________________________\n",
      "Is it windy? (y/n) n\n",
      "You should bring: raincoat\n",
      "______________________________________________________________________________\n",
      "Are any of the following disasters currently occurring?\n",
      "  1. Forest Fire\n",
      "  2. Tornado\n",
      "  3. Hurricane\n",
      "  4. Pandemic\n",
      "  5. None of the above\n",
      "? [1-5] 2\n",
      "You should bring: kite\n",
      "\n",
      "done\n"
     ]
    }
   ],
   "source": [
    "driver.hardware_diagnosis_questions()"
   ]
  }
 ],
 "metadata": {
  "kernelspec": {
   "display_name": "Python 3",
   "language": "python",
   "name": "python3"
  },
  "language_info": {
   "codemirror_mode": {
    "name": "ipython",
    "version": 3
   },
   "file_extension": ".py",
   "mimetype": "text/x-python",
   "name": "python",
   "nbconvert_exporter": "python",
   "pygments_lexer": "ipython3",
   "version": "3.11.3"
  }
 },
 "nbformat": 4,
 "nbformat_minor": 2
}
