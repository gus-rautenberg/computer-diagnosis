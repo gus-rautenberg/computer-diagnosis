{
 "cells": [
  {
   "cell_type": "markdown",
   "metadata": {},
   "source": [
    "# PyKE Coding Simple Example\n",
    "- Course: BMIN 520 (AI 1: Fundamentals of Artificial Intelligence)\n",
    "- Institution: University of Pennsylvania\n",
    "- Course Director: Ryan Urbanowicz, PhD\n",
    "- Due date: NA"
   ]
  },
  {
   "cell_type": "markdown",
   "metadata": {},
   "source": [
    "---\n",
    "## Subtask 1 - Learn how to code your own basic backward chaining expert system:\n",
    "\n",
    "A very simple set of code has been provided as template for how to create your own backward chaining expert system.  Specifically this system decides what you should bring when walking out of the house (i.e. an umbrella, a raincoat, or nothing). This in the zipped folder 'simple_bc_all'. Follow the instructions below:\n",
    "- Unzip this folder and copy it into your working directory.\n",
    "- Examine 'facts.kfb' in a text or python editor.\n",
    "    - To simplify things, this file hard codes all the facts (about the weather) that are needed to make the decision of what to bring outside.\n",
    "    - Note that the text, 'True' or 'False' is intended to be used in these facts.  \n",
    "- Examine 'bc_simple_rules.krb' in a text or python editor.\n",
    "    - Each of the four code chunks represent backward chaining rules\n",
    "    - Syntax of a PyKE rule:\n",
    "        - The first line gives a unique rule name\n",
    "        - The next line is the 'THEN' part of the rule, designated by the word 'use'.\n",
    "        - The next third line is the 'IF' part of the rule, designated by the word 'when'.\n",
    "            - Each subsequent line is an 'IF' condition that must be satified for the 'THEN' part of the rule to be satisfied.\n",
    "            - Note that whenever a fact from the fact base is to be sought, the line begins with the name of the fact base and a '.', (i.e. facts.)\n",
    "            \n",
    "- Examine 'driver_simple.py' in a text or python editor.\n",
    "    - This code initializes the PyKE engine, and includes a function, 'bc_test', to run the expert system. It is very similar to the functions introduced in the PyKE family relationship examples.\n",
    "    - Comments have been added to this code to point out the lines that you will need to edit later to make your own simple expert system.\n",
    "- Edit the path (in the sys.path.append()) to the 'simple_bc_all' folder, to match the folder hierarchy on your computer.\n",
    "- Run the cell below to confirm that it is working. \n",
    "    - Since the fact base indicates that it is both raining and windy, the system should indicate that a raincoat should be brought."
   ]
  },
  {
   "cell_type": "code",
   "execution_count": 3,
   "metadata": {},
   "outputs": [
    {
     "name": "stdout",
     "output_type": "stream",
     "text": [
      "doing proof\n",
      "______________________________________________________________________________\n",
      "______________________________________________________________________________\n",
      "______________________________________________________________________________\n",
      "answer should be 'y' or 'yes' or 't' or 'true' or 'n' or 'no' or 'f' or 'false', got ''\n",
      "\n",
      "Try Again:\n",
      "______________________________________________________________________________\n",
      "answer should be 'y' or 'yes' or 't' or 'true' or 'n' or 'no' or 'f' or 'false', got ''\n",
      "\n",
      "Try Again:\n",
      "______________________________________________________________________________\n",
      "answer should be 'y' or 'yes' or 't' or 'true' or 'n' or 'no' or 'f' or 'false', got ''\n",
      "\n",
      "Try Again:\n",
      "______________________________________________________________________________\n",
      "answer should be 'y' or 'yes' or 't' or 'true' or 'n' or 'no' or 'f' or 'false', got ''\n",
      "\n",
      "Try Again:\n",
      "______________________________________________________________________________\n",
      "answer should be 'y' or 'yes' or 't' or 'true' or 'n' or 'no' or 'f' or 'false', got ''\n",
      "\n",
      "Try Again:\n",
      "______________________________________________________________________________\n",
      "answer should be 'y' or 'yes' or 't' or 'true' or 'n' or 'no' or 'f' or 'false', got ''\n",
      "\n",
      "Try Again:\n",
      "______________________________________________________________________________\n",
      "answer should be 'y' or 'yes' or 't' or 'true' or 'n' or 'no' or 'f' or 'false', got ''\n",
      "\n",
      "Try Again:\n",
      "______________________________________________________________________________\n",
      "answer should be 'y' or 'yes' or 't' or 'true' or 'n' or 'no' or 'f' or 'false', got ''\n",
      "\n",
      "Try Again:\n",
      "______________________________________________________________________________\n",
      "answer should be 'y' or 'yes' or 't' or 'true' or 'n' or 'no' or 'f' or 'false', got ''\n",
      "\n",
      "Try Again:\n",
      "______________________________________________________________________________\n",
      "answer should be 'y' or 'yes' or 't' or 'true' or 'n' or 'no' or 'f' or 'false', got ''\n",
      "\n",
      "Try Again:\n",
      "______________________________________________________________________________\n",
      "answer should be 'y' or 'yes' or 't' or 'true' or 'n' or 'no' or 'f' or 'false', got ''\n",
      "\n",
      "Try Again:\n",
      "______________________________________________________________________________\n",
      "answer should be 'y' or 'yes' or 't' or 'true' or 'n' or 'no' or 'f' or 'false', got ''\n",
      "\n",
      "Try Again:\n",
      "______________________________________________________________________________\n",
      "answer should be 'y' or 'yes' or 't' or 'true' or 'n' or 'no' or 'f' or 'false', got ''\n",
      "\n",
      "Try Again:\n",
      "______________________________________________________________________________\n",
      "answer should be 'y' or 'yes' or 't' or 'true' or 'n' or 'no' or 'f' or 'false', got ''\n",
      "\n",
      "Try Again:\n",
      "______________________________________________________________________________\n",
      "answer should be 'y' or 'yes' or 't' or 'true' or 'n' or 'no' or 'f' or 'false', got ''\n",
      "\n",
      "Try Again:\n",
      "______________________________________________________________________________\n",
      "answer should be 'y' or 'yes' or 't' or 'true' or 'n' or 'no' or 'f' or 'false', got ''\n",
      "\n",
      "Try Again:\n",
      "______________________________________________________________________________\n"
     ]
    },
    {
     "ename": "KeyboardInterrupt",
     "evalue": "Interrupted by user",
     "output_type": "error",
     "traceback": [
      "\u001b[1;31m---------------------------------------------------------------------------\u001b[0m",
      "\u001b[1;31mKeyboardInterrupt\u001b[0m                         Traceback (most recent call last)",
      "Cell \u001b[1;32mIn[3], line 8\u001b[0m\n\u001b[0;32m      5\u001b[0m \u001b[38;5;66;03m#sys.path.append('yourpath')\u001b[39;00m\n\u001b[0;32m      6\u001b[0m \u001b[38;5;28;01mimport\u001b[39;00m \u001b[38;5;21;01mdriver\u001b[39;00m\n\u001b[1;32m----> 8\u001b[0m \u001b[43mdriver\u001b[49m\u001b[38;5;241;43m.\u001b[39;49m\u001b[43mhardware_diagnosis_questions\u001b[49m\u001b[43m(\u001b[49m\u001b[43m)\u001b[49m\n",
      "File \u001b[1;32mh:\\Unioeste\\2023\\IA\\SE\\computer-diagnosis\\driver.py:23\u001b[0m, in \u001b[0;36mhardware_diagnosis_questions\u001b[1;34m()\u001b[0m\n\u001b[0;32m     21\u001b[0m \u001b[38;5;28;01mtry\u001b[39;00m:\n\u001b[0;32m     22\u001b[0m     \u001b[38;5;28;01mwith\u001b[39;00m engine\u001b[38;5;241m.\u001b[39mprove_goal(\u001b[38;5;124m'\u001b[39m\u001b[38;5;124mrules.what_to_do($action)\u001b[39m\u001b[38;5;124m'\u001b[39m) \u001b[38;5;28;01mas\u001b[39;00m gen: \u001b[38;5;66;03m#STUDENTS: you will need to edit this line\u001b[39;00m\n\u001b[1;32m---> 23\u001b[0m \u001b[43m        \u001b[49m\u001b[38;5;28;43;01mfor\u001b[39;49;00m\u001b[43m \u001b[49m\u001b[38;5;28;43mvars\u001b[39;49m\u001b[43m,\u001b[49m\u001b[43m \u001b[49m\u001b[43mplan\u001b[49m\u001b[43m \u001b[49m\u001b[38;5;129;43;01min\u001b[39;49;00m\u001b[43m \u001b[49m\u001b[43mgen\u001b[49m\u001b[43m:\u001b[49m\n\u001b[0;32m     24\u001b[0m \u001b[43m            \u001b[49m\u001b[38;5;28;43mprint\u001b[39;49m\u001b[43m(\u001b[49m\u001b[38;5;124;43m\"\u001b[39;49m\u001b[38;5;124;43mSeu diagnostico: \u001b[39;49m\u001b[38;5;132;43;01m%s\u001b[39;49;00m\u001b[38;5;124;43m\"\u001b[39;49m\u001b[43m \u001b[49m\u001b[38;5;241;43m%\u001b[39;49m\u001b[43m \u001b[49m\u001b[43m(\u001b[49m\u001b[38;5;28;43mvars\u001b[39;49m\u001b[43m[\u001b[49m\u001b[38;5;124;43m'\u001b[39;49m\u001b[38;5;124;43maction\u001b[39;49m\u001b[38;5;124;43m'\u001b[39;49m\u001b[43m]\u001b[49m\u001b[43m)\u001b[49m\u001b[43m)\u001b[49m \u001b[38;5;66;03m#STUDENTS: you will need to edit this line\u001b[39;00m\n\u001b[0;32m     26\u001b[0m \u001b[38;5;28;01mexcept\u001b[39;00m \u001b[38;5;167;01mException\u001b[39;00m:\n\u001b[0;32m     27\u001b[0m     \u001b[38;5;66;03m# This converts stack frames of generated python functions back to the\u001b[39;00m\n\u001b[0;32m     28\u001b[0m     \u001b[38;5;66;03m# .krb file.\u001b[39;00m\n",
      "File \u001b[1;32mc:\\Users\\gprau\\AppData\\Local\\Programs\\Python\\Python311\\Lib\\site-packages\\pyke-1.1.1-py3.11.egg\\pyke\\rule_base.py:50\u001b[0m, in \u001b[0;36mstopIterator.__next__\u001b[1;34m(self)\u001b[0m\n\u001b[0;32m     48\u001b[0m \u001b[38;5;28;01mif\u001b[39;00m \u001b[38;5;28mself\u001b[39m\u001b[38;5;241m.\u001b[39miterator:\n\u001b[0;32m     49\u001b[0m     \u001b[38;5;28;01mtry\u001b[39;00m:\n\u001b[1;32m---> 50\u001b[0m         \u001b[38;5;28;01mreturn\u001b[39;00m \u001b[38;5;28;43mnext\u001b[39;49m\u001b[43m(\u001b[49m\u001b[38;5;28;43mself\u001b[39;49m\u001b[38;5;241;43m.\u001b[39;49m\u001b[43miterator\u001b[49m\u001b[43m)\u001b[49m\n\u001b[0;32m     51\u001b[0m     \u001b[38;5;28;01mexcept\u001b[39;00m StopProof:\n\u001b[0;32m     52\u001b[0m         \u001b[38;5;28mself\u001b[39m\u001b[38;5;241m.\u001b[39miterator \u001b[38;5;241m=\u001b[39m \u001b[38;5;28;01mNone\u001b[39;00m\n",
      "File \u001b[1;32mh:\\Unioeste\\2023\\IA\\SE\\computer-diagnosis\\compiled_krb\\rules_bc.py:32\u001b[0m, in \u001b[0;36mwhat_to_do_check_power_requirement_vs_rating\u001b[1;34m(rule, arg_patterns, arg_context)\u001b[0m\n\u001b[0;32m     29\u001b[0m \u001b[38;5;28;01mfor\u001b[39;00m x_2 \u001b[38;5;129;01min\u001b[39;00m gen_2:\n\u001b[0;32m     30\u001b[0m   \u001b[38;5;28;01massert\u001b[39;00m x_2 \u001b[38;5;129;01mis\u001b[39;00m \u001b[38;5;28;01mNone\u001b[39;00m, \\\n\u001b[0;32m     31\u001b[0m     \u001b[38;5;124m\"\u001b[39m\u001b[38;5;124mrules.what_to_do_check_power_requirement_vs_rating: got unexpected plan from when clause 2\u001b[39m\u001b[38;5;124m\"\u001b[39m\n\u001b[1;32m---> 32\u001b[0m   \u001b[38;5;28;01mwith\u001b[39;00m \u001b[43mengine\u001b[49m\u001b[38;5;241;43m.\u001b[39;49m\u001b[43mprove\u001b[49m\u001b[43m(\u001b[49m\u001b[38;5;124;43m'\u001b[39;49m\u001b[38;5;124;43mquestions\u001b[39;49m\u001b[38;5;124;43m'\u001b[39;49m\u001b[43m,\u001b[49m\u001b[43m \u001b[49m\u001b[38;5;124;43m'\u001b[39;49m\u001b[38;5;124;43mnew_build\u001b[39;49m\u001b[38;5;124;43m'\u001b[39;49m\u001b[43m,\u001b[49m\u001b[43m \u001b[49m\u001b[43mcontext\u001b[49m\u001b[43m,\u001b[49m\n\u001b[0;32m     33\u001b[0m \u001b[43m                    \u001b[49m\u001b[43m(\u001b[49m\u001b[43mrule\u001b[49m\u001b[38;5;241;43m.\u001b[39;49m\u001b[43mpattern\u001b[49m\u001b[43m(\u001b[49m\u001b[38;5;241;43m0\u001b[39;49m\u001b[43m)\u001b[49m\u001b[43m,\u001b[49m\u001b[43m)\u001b[49m\u001b[43m)\u001b[49m \\\n\u001b[0;32m     34\u001b[0m     \u001b[38;5;28;01mas\u001b[39;00m gen_3:\n\u001b[0;32m     35\u001b[0m     \u001b[38;5;28;01mfor\u001b[39;00m x_3 \u001b[38;5;129;01min\u001b[39;00m gen_3:\n\u001b[0;32m     36\u001b[0m       \u001b[38;5;28;01massert\u001b[39;00m x_3 \u001b[38;5;129;01mis\u001b[39;00m \u001b[38;5;28;01mNone\u001b[39;00m, \\\n\u001b[0;32m     37\u001b[0m         \u001b[38;5;124m\"\u001b[39m\u001b[38;5;124mrules.what_to_do_check_power_requirement_vs_rating: got unexpected plan from when clause 3\u001b[39m\u001b[38;5;124m\"\u001b[39m\n",
      "File \u001b[1;32mc:\\Users\\gprau\\AppData\\Local\\Programs\\Python\\Python311\\Lib\\site-packages\\pyke-1.1.1-py3.11.egg\\pyke\\knowledge_engine.py:372\u001b[0m, in \u001b[0;36mengine.prove\u001b[1;34m(self, kb_name, entity_name, pat_context, patterns)\u001b[0m\n\u001b[0;32m    369\u001b[0m \u001b[38;5;28;01mdef\u001b[39;00m \u001b[38;5;21mprove\u001b[39m(\u001b[38;5;28mself\u001b[39m, kb_name, entity_name, pat_context, patterns):\n\u001b[0;32m    370\u001b[0m \u001b[38;5;250m    \u001b[39m\u001b[38;5;124mr\u001b[39m\u001b[38;5;124;03m'''Deprecated.  Use engine.prove_goal.\u001b[39;00m\n\u001b[0;32m    371\u001b[0m \u001b[38;5;124;03m    '''\u001b[39;00m\n\u001b[1;32m--> 372\u001b[0m     \u001b[38;5;28;01mreturn\u001b[39;00m \u001b[38;5;28;43mself\u001b[39;49m\u001b[38;5;241;43m.\u001b[39;49m\u001b[43mget_kb\u001b[49m\u001b[43m(\u001b[49m\u001b[43mkb_name\u001b[49m\u001b[43m)\u001b[49m\u001b[38;5;241;43m.\u001b[39;49m\u001b[43mprove\u001b[49m\u001b[43m(\u001b[49m\u001b[43mpat_context\u001b[49m\u001b[43m,\u001b[49m\u001b[43m \u001b[49m\u001b[43mpat_context\u001b[49m\u001b[43m,\u001b[49m\n\u001b[0;32m    373\u001b[0m \u001b[43m                                      \u001b[49m\u001b[43mentity_name\u001b[49m\u001b[43m,\u001b[49m\u001b[43m \u001b[49m\u001b[43mpatterns\u001b[49m\u001b[43m)\u001b[49m\n",
      "File \u001b[1;32mc:\\Users\\gprau\\AppData\\Local\\Programs\\Python\\Python311\\Lib\\site-packages\\pyke-1.1.1-py3.11.egg\\pyke\\knowledge_base.py:104\u001b[0m, in \u001b[0;36mknowledge_base.prove\u001b[1;34m(self, bindings, pat_context, entity_name, patterns)\u001b[0m\n\u001b[0;32m    102\u001b[0m entity \u001b[38;5;241m=\u001b[39m \u001b[38;5;28mself\u001b[39m\u001b[38;5;241m.\u001b[39mentity_lists\u001b[38;5;241m.\u001b[39mget(entity_name)\n\u001b[0;32m    103\u001b[0m \u001b[38;5;28;01mif\u001b[39;00m entity \u001b[38;5;129;01mis\u001b[39;00m \u001b[38;5;28;01mNone\u001b[39;00m: \u001b[38;5;28;01mreturn\u001b[39;00m Gen_empty\n\u001b[1;32m--> 104\u001b[0m \u001b[38;5;28;01mreturn\u001b[39;00m \u001b[43mentity\u001b[49m\u001b[38;5;241;43m.\u001b[39;49m\u001b[43mprove\u001b[49m\u001b[43m(\u001b[49m\u001b[43mbindings\u001b[49m\u001b[43m,\u001b[49m\u001b[43m \u001b[49m\u001b[43mpat_context\u001b[49m\u001b[43m,\u001b[49m\u001b[43m \u001b[49m\u001b[43mpatterns\u001b[49m\u001b[43m)\u001b[49m\n",
      "File \u001b[1;32mc:\\Users\\gprau\\AppData\\Local\\Programs\\Python\\Python311\\Lib\\site-packages\\pyke-1.1.1-py3.11.egg\\pyke\\knowledge_base.py:129\u001b[0m, in \u001b[0;36mknowledge_entity_list.prove\u001b[1;34m(self, bindings, pat_context, patterns)\u001b[0m\n\u001b[0;32m    128\u001b[0m \u001b[38;5;28;01mdef\u001b[39;00m \u001b[38;5;21mprove\u001b[39m(\u001b[38;5;28mself\u001b[39m, bindings, pat_context, patterns):\n\u001b[1;32m--> 129\u001b[0m     \u001b[38;5;28;01mreturn\u001b[39;00m \u001b[38;5;28;43mself\u001b[39;49m\u001b[38;5;241;43m.\u001b[39;49m\u001b[43mlookup\u001b[49m\u001b[43m(\u001b[49m\u001b[43mbindings\u001b[49m\u001b[43m,\u001b[49m\u001b[43m \u001b[49m\u001b[43mpat_context\u001b[49m\u001b[43m,\u001b[49m\u001b[43m \u001b[49m\u001b[43mpatterns\u001b[49m\u001b[43m)\u001b[49m\n",
      "File \u001b[1;32mc:\\Users\\gprau\\AppData\\Local\\Programs\\Python\\Python311\\Lib\\site-packages\\pyke-1.1.1-py3.11.egg\\pyke\\question_base.py:95\u001b[0m, in \u001b[0;36mquestion.lookup\u001b[1;34m(self, bindings, pat_context, patterns)\u001b[0m\n\u001b[0;32m     92\u001b[0m ans \u001b[38;5;241m=\u001b[39m \u001b[38;5;28mself\u001b[39m\u001b[38;5;241m.\u001b[39mcache\u001b[38;5;241m.\u001b[39mget(input_params, \u001b[38;5;28mself\u001b[39m\u001b[38;5;241m.\u001b[39mnot_found)\n\u001b[0;32m     93\u001b[0m \u001b[38;5;28;01mif\u001b[39;00m ans \u001b[38;5;129;01mis\u001b[39;00m \u001b[38;5;28mself\u001b[39m\u001b[38;5;241m.\u001b[39mnot_found:\n\u001b[0;32m     94\u001b[0m     ans \u001b[38;5;241m=\u001b[39m \u001b[38;5;28mself\u001b[39m\u001b[38;5;241m.\u001b[39mcache[input_params] \u001b[38;5;241m=\u001b[39m \\\n\u001b[1;32m---> 95\u001b[0m         \u001b[38;5;28;43mself\u001b[39;49m\u001b[38;5;241;43m.\u001b[39;49m\u001b[43muser_question\u001b[49m\u001b[38;5;241;43m.\u001b[39;49m\u001b[43mask\u001b[49m\u001b[43m(\u001b[49m\u001b[43mformat_params\u001b[49m\u001b[43m)\u001b[49m\n\u001b[0;32m     97\u001b[0m \u001b[38;5;28;01mdef\u001b[39;00m \u001b[38;5;21mgen\u001b[39m():\n\u001b[0;32m     98\u001b[0m     mark \u001b[38;5;241m=\u001b[39m bindings\u001b[38;5;241m.\u001b[39mmark(\u001b[38;5;28;01mTrue\u001b[39;00m)\n",
      "File \u001b[1;32mc:\\Users\\gprau\\AppData\\Local\\Programs\\Python\\Python311\\Lib\\site-packages\\pyke-1.1.1-py3.11.egg\\pyke\\user_question.py:77\u001b[0m, in \u001b[0;36muser_question.ask\u001b[1;34m(self, format_params)\u001b[0m\n\u001b[0;32m     74\u001b[0m \u001b[38;5;28;01mif\u001b[39;00m arg2:\n\u001b[0;32m     75\u001b[0m     \u001b[38;5;28;01mreturn\u001b[39;00m ask_fn(\u001b[38;5;28mself\u001b[39m\u001b[38;5;241m.\u001b[39mformat\u001b[38;5;241m.\u001b[39msubstitute(format_params), arg2,\n\u001b[0;32m     76\u001b[0m                   review\u001b[38;5;241m=\u001b[39mreview)\n\u001b[1;32m---> 77\u001b[0m \u001b[38;5;28;01mreturn\u001b[39;00m \u001b[43mask_fn\u001b[49m\u001b[43m(\u001b[49m\u001b[38;5;28;43mself\u001b[39;49m\u001b[38;5;241;43m.\u001b[39;49m\u001b[43mformat\u001b[49m\u001b[38;5;241;43m.\u001b[39;49m\u001b[43msubstitute\u001b[49m\u001b[43m(\u001b[49m\u001b[43mformat_params\u001b[49m\u001b[43m)\u001b[49m\u001b[43m,\u001b[49m\n\u001b[0;32m     78\u001b[0m \u001b[43m              \u001b[49m\u001b[43mreview\u001b[49m\u001b[38;5;241;43m=\u001b[39;49m\u001b[43mreview\u001b[49m\u001b[43m)\u001b[49m\n",
      "File \u001b[1;32mc:\\Users\\gprau\\AppData\\Local\\Programs\\Python\\Python311\\Lib\\site-packages\\pyke-1.1.1-py3.11.egg\\pyke\\ask_tty.py:128\u001b[0m, in \u001b[0;36mask_yn\u001b[1;34m(question, review)\u001b[0m\n\u001b[0;32m    116\u001b[0m \u001b[38;5;28;01mdef\u001b[39;00m \u001b[38;5;21mask_yn\u001b[39m(question, review\u001b[38;5;241m=\u001b[39m\u001b[38;5;28;01mNone\u001b[39;00m):\n\u001b[0;32m    117\u001b[0m \u001b[38;5;250m    \u001b[39m\u001b[38;5;124mr\u001b[39m\u001b[38;5;124;03m'''\u001b[39;00m\n\u001b[0;32m    118\u001b[0m \u001b[38;5;124;03m        >>> from io import StringIO\u001b[39;00m\n\u001b[0;32m    119\u001b[0m \u001b[38;5;124;03m        >>> sys.stdin = StringIO('yes\\n')\u001b[39;00m\n\u001b[1;32m   (...)\u001b[0m\n\u001b[0;32m    126\u001b[0m \u001b[38;5;124;03m        got it? (y/n) False\u001b[39;00m\n\u001b[0;32m    127\u001b[0m \u001b[38;5;124;03m    '''\u001b[39;00m\n\u001b[1;32m--> 128\u001b[0m     \u001b[38;5;28;01mreturn\u001b[39;00m \u001b[43mget_answer\u001b[49m\u001b[43m(\u001b[49m\u001b[43mquestion\u001b[49m\u001b[43m,\u001b[49m\u001b[43m \u001b[49m\u001b[38;5;124;43m\"\u001b[39;49m\u001b[38;5;124;43m(y/n)\u001b[39;49m\u001b[38;5;124;43m\"\u001b[39;49m\u001b[43m,\u001b[49m\u001b[43m \u001b[49m\u001b[43mconv_fn\u001b[49m\u001b[38;5;241;43m=\u001b[39;49m\u001b[38;5;28;43;01mlambda\u001b[39;49;00m\u001b[43m \u001b[49m\u001b[38;5;28;43mstr\u001b[39;49m\u001b[43m:\u001b[49m\u001b[43m \u001b[49m\u001b[38;5;28;43mstr\u001b[39;49m\u001b[38;5;241;43m.\u001b[39;49m\u001b[43mlower\u001b[49m\u001b[43m(\u001b[49m\u001b[43m)\u001b[49m\u001b[43m,\u001b[49m\n\u001b[0;32m    129\u001b[0m \u001b[43m                      \u001b[49m\u001b[43mtest\u001b[49m\u001b[38;5;241;43m=\u001b[39;49m\u001b[43m(\u001b[49m\u001b[43mqa_helpers\u001b[49m\u001b[38;5;241;43m.\u001b[39;49m\u001b[43mqmap\u001b[49m\u001b[43m(\u001b[49m\u001b[43myes_match\u001b[49m\u001b[43m,\u001b[49m\u001b[43m \u001b[49m\u001b[38;5;28;43;01mTrue\u001b[39;49;00m\u001b[43m)\u001b[49m\u001b[43m,\u001b[49m\n\u001b[0;32m    130\u001b[0m \u001b[43m                            \u001b[49m\u001b[43mqa_helpers\u001b[49m\u001b[38;5;241;43m.\u001b[39;49m\u001b[43mqmap\u001b[49m\u001b[43m(\u001b[49m\u001b[43mno_match\u001b[49m\u001b[43m,\u001b[49m\u001b[43m \u001b[49m\u001b[38;5;28;43;01mFalse\u001b[39;49;00m\u001b[43m)\u001b[49m\u001b[43m)\u001b[49m\u001b[43m,\u001b[49m\n\u001b[0;32m    131\u001b[0m \u001b[43m                      \u001b[49m\u001b[43mreview\u001b[49m\u001b[38;5;241;43m=\u001b[39;49m\u001b[43mreview\u001b[49m\u001b[43m)\u001b[49m\n",
      "File \u001b[1;32mc:\\Users\\gprau\\AppData\\Local\\Programs\\Python\\Python311\\Lib\\site-packages\\pyke-1.1.1-py3.11.egg\\pyke\\ask_tty.py:87\u001b[0m, in \u001b[0;36mget_answer\u001b[1;34m(question, match_prompt, conv_fn, test, review)\u001b[0m\n\u001b[0;32m     85\u001b[0m \u001b[38;5;28;01mwhile\u001b[39;00m \u001b[38;5;28;01mTrue\u001b[39;00m:\n\u001b[0;32m     86\u001b[0m     \u001b[38;5;28mprint\u001b[39m(\u001b[38;5;124m\"\u001b[39m\u001b[38;5;124m_\u001b[39m\u001b[38;5;124m\"\u001b[39m \u001b[38;5;241m*\u001b[39m \u001b[38;5;241m78\u001b[39m)\n\u001b[1;32m---> 87\u001b[0m     ans \u001b[38;5;241m=\u001b[39m \u001b[38;5;28;43minput\u001b[39;49m\u001b[43m(\u001b[49m\u001b[43mquestion\u001b[49m\u001b[43m)\u001b[49m\n\u001b[0;32m     88\u001b[0m     \u001b[38;5;28;01mtry\u001b[39;00m:\n\u001b[0;32m     89\u001b[0m         \u001b[38;5;28;01mif\u001b[39;00m encoding \u001b[38;5;129;01mand\u001b[39;00m sys\u001b[38;5;241m.\u001b[39mversion_info[\u001b[38;5;241m0\u001b[39m] \u001b[38;5;241m<\u001b[39m \u001b[38;5;241m3\u001b[39m: ans \u001b[38;5;241m=\u001b[39m ans\u001b[38;5;241m.\u001b[39mdecode(encoding)\n",
      "File \u001b[1;32m~\\AppData\\Roaming\\Python\\Python311\\site-packages\\ipykernel\\kernelbase.py:1282\u001b[0m, in \u001b[0;36mKernel.raw_input\u001b[1;34m(self, prompt)\u001b[0m\n\u001b[0;32m   1280\u001b[0m     msg \u001b[38;5;241m=\u001b[39m \u001b[38;5;124m\"\u001b[39m\u001b[38;5;124mraw_input was called, but this frontend does not support input requests.\u001b[39m\u001b[38;5;124m\"\u001b[39m\n\u001b[0;32m   1281\u001b[0m     \u001b[38;5;28;01mraise\u001b[39;00m StdinNotImplementedError(msg)\n\u001b[1;32m-> 1282\u001b[0m \u001b[38;5;28;01mreturn\u001b[39;00m \u001b[38;5;28;43mself\u001b[39;49m\u001b[38;5;241;43m.\u001b[39;49m\u001b[43m_input_request\u001b[49m\u001b[43m(\u001b[49m\n\u001b[0;32m   1283\u001b[0m \u001b[43m    \u001b[49m\u001b[38;5;28;43mstr\u001b[39;49m\u001b[43m(\u001b[49m\u001b[43mprompt\u001b[49m\u001b[43m)\u001b[49m\u001b[43m,\u001b[49m\n\u001b[0;32m   1284\u001b[0m \u001b[43m    \u001b[49m\u001b[38;5;28;43mself\u001b[39;49m\u001b[38;5;241;43m.\u001b[39;49m\u001b[43m_parent_ident\u001b[49m\u001b[43m[\u001b[49m\u001b[38;5;124;43m\"\u001b[39;49m\u001b[38;5;124;43mshell\u001b[39;49m\u001b[38;5;124;43m\"\u001b[39;49m\u001b[43m]\u001b[49m\u001b[43m,\u001b[49m\n\u001b[0;32m   1285\u001b[0m \u001b[43m    \u001b[49m\u001b[38;5;28;43mself\u001b[39;49m\u001b[38;5;241;43m.\u001b[39;49m\u001b[43mget_parent\u001b[49m\u001b[43m(\u001b[49m\u001b[38;5;124;43m\"\u001b[39;49m\u001b[38;5;124;43mshell\u001b[39;49m\u001b[38;5;124;43m\"\u001b[39;49m\u001b[43m)\u001b[49m\u001b[43m,\u001b[49m\n\u001b[0;32m   1286\u001b[0m \u001b[43m    \u001b[49m\u001b[43mpassword\u001b[49m\u001b[38;5;241;43m=\u001b[39;49m\u001b[38;5;28;43;01mFalse\u001b[39;49;00m\u001b[43m,\u001b[49m\n\u001b[0;32m   1287\u001b[0m \u001b[43m\u001b[49m\u001b[43m)\u001b[49m\n",
      "File \u001b[1;32m~\\AppData\\Roaming\\Python\\Python311\\site-packages\\ipykernel\\kernelbase.py:1325\u001b[0m, in \u001b[0;36mKernel._input_request\u001b[1;34m(self, prompt, ident, parent, password)\u001b[0m\n\u001b[0;32m   1322\u001b[0m \u001b[38;5;28;01mexcept\u001b[39;00m \u001b[38;5;167;01mKeyboardInterrupt\u001b[39;00m:\n\u001b[0;32m   1323\u001b[0m     \u001b[38;5;66;03m# re-raise KeyboardInterrupt, to truncate traceback\u001b[39;00m\n\u001b[0;32m   1324\u001b[0m     msg \u001b[38;5;241m=\u001b[39m \u001b[38;5;124m\"\u001b[39m\u001b[38;5;124mInterrupted by user\u001b[39m\u001b[38;5;124m\"\u001b[39m\n\u001b[1;32m-> 1325\u001b[0m     \u001b[38;5;28;01mraise\u001b[39;00m \u001b[38;5;167;01mKeyboardInterrupt\u001b[39;00m(msg) \u001b[38;5;28;01mfrom\u001b[39;00m \u001b[38;5;28;01mNone\u001b[39;00m\n\u001b[0;32m   1326\u001b[0m \u001b[38;5;28;01mexcept\u001b[39;00m \u001b[38;5;167;01mException\u001b[39;00m:\n\u001b[0;32m   1327\u001b[0m     \u001b[38;5;28mself\u001b[39m\u001b[38;5;241m.\u001b[39mlog\u001b[38;5;241m.\u001b[39mwarning(\u001b[38;5;124m\"\u001b[39m\u001b[38;5;124mInvalid Message:\u001b[39m\u001b[38;5;124m\"\u001b[39m, exc_info\u001b[38;5;241m=\u001b[39m\u001b[38;5;28;01mTrue\u001b[39;00m)\n",
      "\u001b[1;31mKeyboardInterrupt\u001b[0m: Interrupted by user"
     ]
    }
   ],
   "source": [
    "#Run this cell\n",
    "import sys\n",
    "# The following command points your notebook to the location of a folder outside your working directory that you want to import.\n",
    "sys.path.append(r'H:\\Unioeste\\2023\\IA\\SE\\computer-diagnosis')\n",
    "#sys.path.append('yourpath')\n",
    "import driver\n",
    "\n",
    "driver.hardware_diagnosis_questions()\n"
   ]
  }
 ],
 "metadata": {
  "kernelspec": {
   "display_name": "Python 3",
   "language": "python",
   "name": "python3"
  },
  "language_info": {
   "codemirror_mode": {
    "name": "ipython",
    "version": 3
   },
   "file_extension": ".py",
   "mimetype": "text/x-python",
   "name": "python",
   "nbconvert_exporter": "python",
   "pygments_lexer": "ipython3",
   "version": "3.11.8"
  }
 },
 "nbformat": 4,
 "nbformat_minor": 2
}
