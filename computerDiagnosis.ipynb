{
 "cells": [
  {
   "cell_type": "markdown",
   "metadata": {},
   "source": [
    "# Computer Diagnosis\n",
    "- Augusto Barella Dal Prá\n",
    "- Gustavo Portela Rautenberg\n",
    "- João Vitor Biederman\n"
   ]
  },
  {
   "cell_type": "markdown",
   "metadata": {},
   "source": [
    "---\n",
    "## Passo 1\n",
    "\n",
    "- Instale o python 3.11.8\n",
    "    -- Lembre de adicionar ao PATH\n",
    "## Passo 2\n",
    "- Instale pyke\n",
    "    -- pip install scitools-pyke\n",
    "## Passo 3\n",
    "- Execute o programa pelo Jupyter"
   ]
  },
  {
   "cell_type": "markdown",
   "metadata": {},
   "source": []
  },
  {
   "cell_type": "code",
   "execution_count": 1,
   "metadata": {},
   "outputs": [
    {
     "name": "stdout",
     "output_type": "stream",
     "text": [
      "doing proof\n",
      "______________________________________________________________________________\n"
     ]
    }
   ],
   "source": [
    "#Run this cell\n",
    "import sys\n",
    "# The following command points your notebook to the location of a folder outside your working directory that you want to import.\n",
    "sys.path.append(r'H:\\Unioeste\\2023\\IA\\SE\\computer-diagnosis')\n",
    "#sys.path.append('yourpath')\n",
    "import driver\n",
    "\n",
    "driver.hardware_diagnosis_questions()\n"
   ]
  },
  {
   "cell_type": "code",
   "execution_count": null,
   "metadata": {},
   "outputs": [],
   "source": []
  }
 ],
 "metadata": {
  "kernelspec": {
   "display_name": "Python 3",
   "language": "python",
   "name": "python3"
  },
  "language_info": {
   "codemirror_mode": {
    "name": "ipython",
    "version": 3
   },
   "file_extension": ".py",
   "mimetype": "text/x-python",
   "name": "python",
   "nbconvert_exporter": "python",
   "pygments_lexer": "ipython3",
   "version": "3.11.8"
  }
 },
 "nbformat": 4,
 "nbformat_minor": 2
}
